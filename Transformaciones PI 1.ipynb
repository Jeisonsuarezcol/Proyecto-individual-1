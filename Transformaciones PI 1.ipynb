{
 "cells": [
  {
   "cell_type": "code",
   "execution_count": 1,
   "id": "006087fc",
   "metadata": {},
   "outputs": [],
   "source": [
    "from datetime import datetime\n",
    "import numpy as np\n",
    "import pandas as pd\n",
    "import json\n",
    "import ast"
   ]
  },
  {
   "cell_type": "code",
   "execution_count": 2,
<<<<<<< HEAD
   "id": "221f4631",
=======
   "id": "bbdc88ac",
>>>>>>> acd676ef03377938625aba8cee5328d5131ef80a
   "metadata": {},
   "outputs": [],
   "source": [
    "df = pd.read_csv('datasets/movies_dataset.csv', dtype={'popularity': str})"
   ]
  },
  {
   "cell_type": "code",
   "execution_count": 3,
   "id": "581ec8c0",
   "metadata": {
    "scrolled": true
   },
   "outputs": [],
   "source": [
    "#Creamos un nuevo df sobre el original para deshacernos de los datos duplicados\n",
    "\n",
    "df_final = df.drop_duplicates()"
   ]
  },
  {
   "cell_type": "code",
   "execution_count": 4,
   "id": "279f17fe",
   "metadata": {
    "scrolled": false
   },
   "outputs": [
    {
     "name": "stderr",
     "output_type": "stream",
     "text": [
<<<<<<< HEAD
      "C:\\Users\\Marlon\\AppData\\Local\\Temp\\ipykernel_4676\\3335477289.py:1: SettingWithCopyWarning: \n",
=======
      "C:\\Users\\Marlon\\AppData\\Local\\Temp\\ipykernel_3168\\3335477289.py:1: SettingWithCopyWarning: \n",
>>>>>>> acd676ef03377938625aba8cee5328d5131ef80a
      "A value is trying to be set on a copy of a slice from a DataFrame\n",
      "\n",
      "See the caveats in the documentation: https://pandas.pydata.org/pandas-docs/stable/user_guide/indexing.html#returning-a-view-versus-a-copy\n",
      "  df_final.drop_duplicates(subset='id', keep='first', inplace=True)\n"
     ]
    }
   ],
   "source": [
    "df_final.drop_duplicates(subset='id', keep='first', inplace=True)"
   ]
  },
  {
   "cell_type": "code",
   "execution_count": 5,
   "id": "427bb2b2",
   "metadata": {},
   "outputs": [],
   "source": [
    "#Se crea una función para cambiar el tipo de dato de cada registro\n",
    "\n",
    "def funcion(registro):\n",
    "    \n",
    "    if pd.isna(registro):\n",
    "        return None\n",
    "    \n",
    "    else:\n",
    "        return ast.literal_eval(registro)"
   ]
  },
  {
   "cell_type": "code",
   "execution_count": 6,
   "id": "e9dcecae",
<<<<<<< HEAD
   "metadata": {
    "scrolled": true
   },
=======
   "metadata": {},
>>>>>>> acd676ef03377938625aba8cee5328d5131ef80a
   "outputs": [
    {
     "name": "stderr",
     "output_type": "stream",
     "text": [
<<<<<<< HEAD
      "C:\\Users\\Marlon\\AppData\\Local\\Temp\\ipykernel_4676\\3449879074.py:1: SettingWithCopyWarning: \n",
=======
      "C:\\Users\\Marlon\\AppData\\Local\\Temp\\ipykernel_3168\\3449879074.py:1: SettingWithCopyWarning: \n",
>>>>>>> acd676ef03377938625aba8cee5328d5131ef80a
      "A value is trying to be set on a copy of a slice from a DataFrame.\n",
      "Try using .loc[row_indexer,col_indexer] = value instead\n",
      "\n",
      "See the caveats in the documentation: https://pandas.pydata.org/pandas-docs/stable/user_guide/indexing.html#returning-a-view-versus-a-copy\n",
      "  df_final['belongs_to_collection'] = df_final['belongs_to_collection'].apply(funcion)\n"
     ]
    }
   ],
   "source": [
    "df_final['belongs_to_collection'] = df_final['belongs_to_collection'].apply(funcion)"
   ]
  },
  {
   "cell_type": "code",
   "execution_count": 7,
   "id": "730a7789",
   "metadata": {
    "scrolled": false
   },
   "outputs": [
    {
     "data": {
      "text/html": [
       "<div>\n",
       "<style scoped>\n",
       "    .dataframe tbody tr th:only-of-type {\n",
       "        vertical-align: middle;\n",
       "    }\n",
       "\n",
       "    .dataframe tbody tr th {\n",
       "        vertical-align: top;\n",
       "    }\n",
       "\n",
       "    .dataframe thead th {\n",
       "        text-align: right;\n",
       "    }\n",
       "</style>\n",
       "<table border=\"1\" class=\"dataframe\">\n",
       "  <thead>\n",
       "    <tr style=\"text-align: right;\">\n",
       "      <th></th>\n",
       "      <th>adult</th>\n",
       "      <th>belongs_to_collection</th>\n",
       "      <th>budget</th>\n",
       "      <th>genres</th>\n",
       "      <th>homepage</th>\n",
       "      <th>id</th>\n",
       "      <th>imdb_id</th>\n",
       "      <th>original_language</th>\n",
       "      <th>original_title</th>\n",
       "      <th>overview</th>\n",
       "      <th>...</th>\n",
       "      <th>release_date</th>\n",
       "      <th>revenue</th>\n",
       "      <th>runtime</th>\n",
       "      <th>spoken_languages</th>\n",
       "      <th>status</th>\n",
       "      <th>tagline</th>\n",
       "      <th>title</th>\n",
       "      <th>video</th>\n",
       "      <th>vote_average</th>\n",
       "      <th>vote_count</th>\n",
       "    </tr>\n",
       "  </thead>\n",
       "  <tbody>\n",
       "    <tr>\n",
       "      <th>0</th>\n",
       "      <td>False</td>\n",
       "      <td>{'id': 10194, 'name': 'Toy Story Collection', ...</td>\n",
       "      <td>30000000</td>\n",
       "      <td>[{'id': 16, 'name': 'Animation'}, {'id': 35, '...</td>\n",
       "      <td>http://toystory.disney.com/toy-story</td>\n",
       "      <td>862</td>\n",
       "      <td>tt0114709</td>\n",
       "      <td>en</td>\n",
       "      <td>Toy Story</td>\n",
       "      <td>Led by Woody, Andy's toys live happily in his ...</td>\n",
       "      <td>...</td>\n",
       "      <td>1995-10-30</td>\n",
       "      <td>373554033.0</td>\n",
       "      <td>81.0</td>\n",
       "      <td>[{'iso_639_1': 'en', 'name': 'English'}]</td>\n",
       "      <td>Released</td>\n",
       "      <td>NaN</td>\n",
       "      <td>Toy Story</td>\n",
       "      <td>False</td>\n",
       "      <td>7.7</td>\n",
       "      <td>5415.0</td>\n",
       "    </tr>\n",
       "    <tr>\n",
       "      <th>1</th>\n",
       "      <td>False</td>\n",
       "      <td>None</td>\n",
       "      <td>65000000</td>\n",
       "      <td>[{'id': 12, 'name': 'Adventure'}, {'id': 14, '...</td>\n",
       "      <td>NaN</td>\n",
       "      <td>8844</td>\n",
       "      <td>tt0113497</td>\n",
       "      <td>en</td>\n",
       "      <td>Jumanji</td>\n",
       "      <td>When siblings Judy and Peter discover an encha...</td>\n",
       "      <td>...</td>\n",
       "      <td>1995-12-15</td>\n",
       "      <td>262797249.0</td>\n",
       "      <td>104.0</td>\n",
       "      <td>[{'iso_639_1': 'en', 'name': 'English'}, {'iso...</td>\n",
       "      <td>Released</td>\n",
       "      <td>Roll the dice and unleash the excitement!</td>\n",
       "      <td>Jumanji</td>\n",
       "      <td>False</td>\n",
       "      <td>6.9</td>\n",
       "      <td>2413.0</td>\n",
       "    </tr>\n",
       "    <tr>\n",
       "      <th>2</th>\n",
       "      <td>False</td>\n",
       "      <td>{'id': 119050, 'name': 'Grumpy Old Men Collect...</td>\n",
       "      <td>0</td>\n",
       "      <td>[{'id': 10749, 'name': 'Romance'}, {'id': 35, ...</td>\n",
       "      <td>NaN</td>\n",
       "      <td>15602</td>\n",
       "      <td>tt0113228</td>\n",
       "      <td>en</td>\n",
       "      <td>Grumpier Old Men</td>\n",
       "      <td>A family wedding reignites the ancient feud be...</td>\n",
       "      <td>...</td>\n",
       "      <td>1995-12-22</td>\n",
       "      <td>0.0</td>\n",
       "      <td>101.0</td>\n",
       "      <td>[{'iso_639_1': 'en', 'name': 'English'}]</td>\n",
       "      <td>Released</td>\n",
       "      <td>Still Yelling. Still Fighting. Still Ready for...</td>\n",
       "      <td>Grumpier Old Men</td>\n",
       "      <td>False</td>\n",
       "      <td>6.5</td>\n",
       "      <td>92.0</td>\n",
       "    </tr>\n",
       "  </tbody>\n",
       "</table>\n",
       "<p>3 rows × 24 columns</p>\n",
       "</div>"
      ],
      "text/plain": [
       "   adult                              belongs_to_collection    budget  \\\n",
       "0  False  {'id': 10194, 'name': 'Toy Story Collection', ...  30000000   \n",
       "1  False                                               None  65000000   \n",
       "2  False  {'id': 119050, 'name': 'Grumpy Old Men Collect...         0   \n",
       "\n",
       "                                              genres  \\\n",
       "0  [{'id': 16, 'name': 'Animation'}, {'id': 35, '...   \n",
       "1  [{'id': 12, 'name': 'Adventure'}, {'id': 14, '...   \n",
       "2  [{'id': 10749, 'name': 'Romance'}, {'id': 35, ...   \n",
       "\n",
       "                               homepage     id    imdb_id original_language  \\\n",
       "0  http://toystory.disney.com/toy-story    862  tt0114709                en   \n",
       "1                                   NaN   8844  tt0113497                en   \n",
       "2                                   NaN  15602  tt0113228                en   \n",
       "\n",
       "     original_title                                           overview  ...  \\\n",
       "0         Toy Story  Led by Woody, Andy's toys live happily in his ...  ...   \n",
       "1           Jumanji  When siblings Judy and Peter discover an encha...  ...   \n",
       "2  Grumpier Old Men  A family wedding reignites the ancient feud be...  ...   \n",
       "\n",
       "  release_date      revenue runtime  \\\n",
       "0   1995-10-30  373554033.0    81.0   \n",
       "1   1995-12-15  262797249.0   104.0   \n",
       "2   1995-12-22          0.0   101.0   \n",
       "\n",
       "                                    spoken_languages    status  \\\n",
       "0           [{'iso_639_1': 'en', 'name': 'English'}]  Released   \n",
       "1  [{'iso_639_1': 'en', 'name': 'English'}, {'iso...  Released   \n",
       "2           [{'iso_639_1': 'en', 'name': 'English'}]  Released   \n",
       "\n",
       "                                             tagline             title  video  \\\n",
       "0                                                NaN         Toy Story  False   \n",
       "1          Roll the dice and unleash the excitement!           Jumanji  False   \n",
       "2  Still Yelling. Still Fighting. Still Ready for...  Grumpier Old Men  False   \n",
       "\n",
       "  vote_average vote_count  \n",
       "0          7.7     5415.0  \n",
       "1          6.9     2413.0  \n",
       "2          6.5       92.0  \n",
       "\n",
       "[3 rows x 24 columns]"
      ]
     },
     "execution_count": 7,
     "metadata": {},
     "output_type": "execute_result"
    }
   ],
   "source": [
    "#Se puede observar que al aplicar la función en la columna 'belongs_to_collection' los valores de tipo NaN fueron reemplazados por valores tipo None\n",
    "#Los registros que contenían valores distintos a NaN fueron reemplazados por diccionarios \n",
    "\n",
    "df_final.head(3)"
   ]
  },
  {
   "cell_type": "code",
   "execution_count": 8,
   "id": "5aa316e0",
   "metadata": {},
   "outputs": [
    {
     "name": "stdout",
     "output_type": "stream",
     "text": [
<<<<<<< HEAD
      "19730 1997-08-20\n",
      "29503 2012-09-29\n",
      "35587 2014-01-01\n"
=======
      "1997-08-20 19730\n",
      "2012-09-29 29503\n",
      "2014-01-01 35587\n"
>>>>>>> acd676ef03377938625aba8cee5328d5131ef80a
     ]
    }
   ],
   "source": [
<<<<<<< HEAD
    "#Al intentar cambiar el tipo de dato de la columna 'id' aparecen registros que no corresponden, para evitar problemas\n",
=======
    "#Al intentar cambiar el tipo de dato de la columna id aparecen registros que no corresponden, para evitar problemas\n",
>>>>>>> acd676ef03377938625aba8cee5328d5131ef80a
    "#en futuras análisis lo mejor es eliminar estas filas.\n",
    "\n",
    "for dato in df_final['id']:\n",
    "    \n",
    "    try: \n",
    "        int(dato)\n",
    "        \n",
    "    except ValueError:\n",
    "        \n",
    "        indice = df_final['id'][df_final['id'] == dato].index[0]\n",
    "        \n",
<<<<<<< HEAD
    "        print(indice, dato)"
=======
    "        print(dato, indice)"
>>>>>>> acd676ef03377938625aba8cee5328d5131ef80a
   ]
  },
  {
   "cell_type": "code",
   "execution_count": 9,
   "id": "6fb759d5",
   "metadata": {},
   "outputs": [],
   "source": [
    "df_final= df_final.drop(index=[19730,29503,35587])"
   ]
  },
  {
   "cell_type": "code",
   "execution_count": 10,
   "id": "4309357b",
   "metadata": {},
   "outputs": [],
   "source": [
<<<<<<< HEAD
    "df_final['id'] = df_final['id'].astype(int) "
=======
    "df_final['id'] = df_final['id'].astype(int)"
>>>>>>> acd676ef03377938625aba8cee5328d5131ef80a
   ]
  },
  {
   "cell_type": "code",
   "execution_count": 11,
   "id": "51b99570",
   "metadata": {},
   "outputs": [],
   "source": [
    "#Usamos la función pd.json_normalize para generar un nuevo dataset con la columna belongs_to_collection.\n",
    "\n",
    "belongs_collection = pd.json_normalize(df_final['belongs_to_collection'])"
   ]
  },
  {
   "cell_type": "code",
   "execution_count": 12,
   "id": "8c561007",
   "metadata": {},
   "outputs": [],
   "source": [
    " belongs_collection['id_movie'] = df_final['id']"
   ]
  },
  {
   "cell_type": "code",
   "execution_count": 13,
   "id": "dc5fed7f",
   "metadata": {},
   "outputs": [],
   "source": [
    "codigo_id_original = {}  # Diccionario para mapear los códigos de id originales a índices numéricos\n",
    "\n",
    "for i, lista in enumerate(df_final['id']):\n",
    "    \n",
    "    codigo_id_original[i] = df_final['id'].values[i]  # Mapear el código de id original al índice numérico"
   ]
  },
  {
   "cell_type": "code",
   "execution_count": 14,
   "id": "b268912e",
   "metadata": {
    "scrolled": false
   },
   "outputs": [
    {
     "name": "stderr",
     "output_type": "stream",
     "text": [
<<<<<<< HEAD
      "C:\\Users\\Marlon\\AppData\\Local\\Temp\\ipykernel_4676\\2064573140.py:5: SettingWithCopyWarning: \n",
=======
      "C:\\Users\\Marlon\\AppData\\Local\\Temp\\ipykernel_3168\\2064573140.py:5: SettingWithCopyWarning: \n",
>>>>>>> acd676ef03377938625aba8cee5328d5131ef80a
      "A value is trying to be set on a copy of a slice from a DataFrame\n",
      "\n",
      "See the caveats in the documentation: https://pandas.pydata.org/pandas-docs/stable/user_guide/indexing.html#returning-a-view-versus-a-copy\n",
      "  belongs_collection['id_movie'][id_original] = indice\n"
     ]
    }
   ],
   "source": [
    "for id_original, lista in enumerate(belongs_collection['id_movie']):\n",
    "    \n",
    "    indice = codigo_id_original[id_original]  # Obtener el índice numérico correspondiente al código de íd original\n",
    "            \n",
    "    belongs_collection['id_movie'][id_original] = indice"
   ]
  },
  {
   "cell_type": "code",
   "execution_count": 15,
   "id": "77ad5eb2",
   "metadata": {},
   "outputs": [],
   "source": [
    "#Borramos los registros vacíos\n",
    "\n",
    "belongs_collection.dropna(subset=['name'], inplace=True)"
   ]
  },
  {
   "cell_type": "code",
   "execution_count": 16,
   "id": "b8886611",
   "metadata": {
    "scrolled": false
   },
   "outputs": [
    {
     "data": {
      "text/html": [
       "<div>\n",
       "<style scoped>\n",
       "    .dataframe tbody tr th:only-of-type {\n",
       "        vertical-align: middle;\n",
       "    }\n",
       "\n",
       "    .dataframe tbody tr th {\n",
       "        vertical-align: top;\n",
       "    }\n",
       "\n",
       "    .dataframe thead th {\n",
       "        text-align: right;\n",
       "    }\n",
       "</style>\n",
       "<table border=\"1\" class=\"dataframe\">\n",
       "  <thead>\n",
       "    <tr style=\"text-align: right;\">\n",
       "      <th></th>\n",
       "      <th>id</th>\n",
       "      <th>name</th>\n",
       "      <th>poster_path</th>\n",
       "      <th>backdrop_path</th>\n",
       "      <th>id_movie</th>\n",
       "    </tr>\n",
       "  </thead>\n",
       "  <tbody>\n",
       "    <tr>\n",
       "      <th>0</th>\n",
       "      <td>10194.0</td>\n",
       "      <td>Toy Story Collection</td>\n",
       "      <td>/7G9915LfUQ2lVfwMEEhDsn3kT4B.jpg</td>\n",
       "      <td>/9FBwqcd9IRruEDUrTdcaafOMKUq.jpg</td>\n",
       "      <td>862.0</td>\n",
       "    </tr>\n",
       "    <tr>\n",
       "      <th>2</th>\n",
       "      <td>119050.0</td>\n",
       "      <td>Grumpy Old Men Collection</td>\n",
       "      <td>/nLvUdqgPgm3F85NMCii9gVFUcet.jpg</td>\n",
       "      <td>/hypTnLot2z8wpFS7qwsQHW1uV8u.jpg</td>\n",
       "      <td>15602.0</td>\n",
       "    </tr>\n",
       "    <tr>\n",
       "      <th>4</th>\n",
       "      <td>96871.0</td>\n",
       "      <td>Father of the Bride Collection</td>\n",
       "      <td>/nts4iOmNnq7GNicycMJ9pSAn204.jpg</td>\n",
       "      <td>/7qwE57OVZmMJChBpLEbJEmzUydk.jpg</td>\n",
       "      <td>11862.0</td>\n",
       "    </tr>\n",
       "    <tr>\n",
       "      <th>9</th>\n",
       "      <td>645.0</td>\n",
       "      <td>James Bond Collection</td>\n",
       "      <td>/HORpg5CSkmeQlAolx3bKMrKgfi.jpg</td>\n",
       "      <td>/6VcVl48kNKvdXOZfJPdarlUGOsk.jpg</td>\n",
       "      <td>710.0</td>\n",
       "    </tr>\n",
       "    <tr>\n",
       "      <th>12</th>\n",
       "      <td>117693.0</td>\n",
       "      <td>Balto Collection</td>\n",
       "      <td>/w0ZgH6Lgxt2bQYnf1ss74UvYftm.jpg</td>\n",
       "      <td>/9VM5LiJV0bGb1st1KyHA3cVnO2G.jpg</td>\n",
       "      <td>21032.0</td>\n",
       "    </tr>\n",
       "  </tbody>\n",
       "</table>\n",
       "</div>"
      ],
      "text/plain": [
       "          id                            name  \\\n",
       "0    10194.0            Toy Story Collection   \n",
       "2   119050.0       Grumpy Old Men Collection   \n",
       "4    96871.0  Father of the Bride Collection   \n",
       "9      645.0           James Bond Collection   \n",
       "12  117693.0                Balto Collection   \n",
       "\n",
       "                         poster_path                     backdrop_path  \\\n",
       "0   /7G9915LfUQ2lVfwMEEhDsn3kT4B.jpg  /9FBwqcd9IRruEDUrTdcaafOMKUq.jpg   \n",
       "2   /nLvUdqgPgm3F85NMCii9gVFUcet.jpg  /hypTnLot2z8wpFS7qwsQHW1uV8u.jpg   \n",
       "4   /nts4iOmNnq7GNicycMJ9pSAn204.jpg  /7qwE57OVZmMJChBpLEbJEmzUydk.jpg   \n",
       "9    /HORpg5CSkmeQlAolx3bKMrKgfi.jpg  /6VcVl48kNKvdXOZfJPdarlUGOsk.jpg   \n",
       "12  /w0ZgH6Lgxt2bQYnf1ss74UvYftm.jpg  /9VM5LiJV0bGb1st1KyHA3cVnO2G.jpg   \n",
       "\n",
       "    id_movie  \n",
       "0      862.0  \n",
       "2    15602.0  \n",
       "4    11862.0  \n",
       "9      710.0  \n",
       "12   21032.0  "
      ]
     },
     "execution_count": 16,
     "metadata": {},
     "output_type": "execute_result"
    }
   ],
   "source": [
    "#Para poder acceder a la franquicia o serie donde pertenece la película se debe hacer por medio del id de la misma.\n",
    "\n",
    "belongs_collection.head()"
   ]
  },
  {
   "cell_type": "code",
   "execution_count": 17,
   "id": "7cf5ad39",
   "metadata": {},
   "outputs": [],
   "source": [
    "#Nuevamente aplicamos la función en la columna 'genres'\n",
    "\n",
    "df_final['genres'] = df_final['genres'].apply(funcion)"
   ]
  },
  {
   "cell_type": "code",
   "execution_count": 18,
   "id": "0c5a4105",
   "metadata": {},
   "outputs": [
    {
     "data": {
      "text/plain": [
       "{'id', 'name'}"
      ]
     },
     "execution_count": 18,
     "metadata": {},
     "output_type": "execute_result"
    }
   ],
   "source": [
    "# Obtener todas las claves únicas de los diccionarios en la columna 'genres'\n",
    "\n",
    "claves = set()\n",
    "\n",
    "for lista in df_final['genres'].dropna():\n",
    "    \n",
    "    for diccionario in lista:\n",
    "        claves.update(diccionario.keys())\n",
    "claves"
   ]
  },
  {
   "cell_type": "code",
   "execution_count": 19,
   "id": "ab9759ac",
   "metadata": {},
   "outputs": [],
   "source": [
<<<<<<< HEAD
    "# Creamos una lista vacía para almacenar los diccionarios\n",
=======
    "# Crear una lista vacía para almacenar los diccionarios\n",
>>>>>>> acd676ef03377938625aba8cee5328d5131ef80a
    "lista_diccionarios = []\n",
    "\n",
    "for id_original, lista in enumerate(df_final['genres']):\n",
    "    \n",
    "    if isinstance(lista, list):\n",
    "        \n",
    "        for diccionario in lista:\n",
    "            \n",
    "            indice = codigo_id_original[id_original]  # Obtener el índice numérico correspondiente al código de íd original\n",
    "            \n",
    "            diccionario['id_movie'] = indice\n",
    "            \n",
    "            lista_diccionarios.append(diccionario)"
   ]
  },
  {
   "cell_type": "code",
   "execution_count": 20,
   "id": "ee0131a6",
   "metadata": {},
   "outputs": [],
   "source": [
    "# Creamos el DataFrame utilizando la lista de diccionarios\n",
    "\n",
    "df_genres = pd.DataFrame(lista_diccionarios)"
   ]
  },
  {
   "cell_type": "code",
   "execution_count": 21,
   "id": "82638a10",
   "metadata": {
    "scrolled": false
   },
   "outputs": [
    {
     "data": {
      "text/html": [
       "<div>\n",
       "<style scoped>\n",
       "    .dataframe tbody tr th:only-of-type {\n",
       "        vertical-align: middle;\n",
       "    }\n",
       "\n",
       "    .dataframe tbody tr th {\n",
       "        vertical-align: top;\n",
       "    }\n",
       "\n",
       "    .dataframe thead th {\n",
       "        text-align: right;\n",
       "    }\n",
       "</style>\n",
       "<table border=\"1\" class=\"dataframe\">\n",
       "  <thead>\n",
       "    <tr style=\"text-align: right;\">\n",
       "      <th></th>\n",
       "      <th>id</th>\n",
       "      <th>name</th>\n",
       "      <th>id_movie</th>\n",
       "    </tr>\n",
       "  </thead>\n",
       "  <tbody>\n",
       "    <tr>\n",
       "      <th>19341</th>\n",
       "      <td>12</td>\n",
       "      <td>Adventure</td>\n",
       "      <td>11052</td>\n",
       "    </tr>\n",
       "    <tr>\n",
       "      <th>19342</th>\n",
       "      <td>14</td>\n",
       "      <td>Fantasy</td>\n",
       "      <td>11052</td>\n",
       "    </tr>\n",
       "    <tr>\n",
       "      <th>19343</th>\n",
       "      <td>16</td>\n",
       "      <td>Animation</td>\n",
       "      <td>11052</td>\n",
       "    </tr>\n",
       "    <tr>\n",
       "      <th>19344</th>\n",
       "      <td>28</td>\n",
       "      <td>Action</td>\n",
       "      <td>11052</td>\n",
       "    </tr>\n",
       "    <tr>\n",
       "      <th>19345</th>\n",
       "      <td>35</td>\n",
       "      <td>Comedy</td>\n",
       "      <td>11052</td>\n",
       "    </tr>\n",
       "    <tr>\n",
       "      <th>19346</th>\n",
       "      <td>53</td>\n",
       "      <td>Thriller</td>\n",
       "      <td>11052</td>\n",
       "    </tr>\n",
       "    <tr>\n",
       "      <th>19347</th>\n",
       "      <td>878</td>\n",
       "      <td>Science Fiction</td>\n",
       "      <td>11052</td>\n",
       "    </tr>\n",
       "    <tr>\n",
       "      <th>19348</th>\n",
       "      <td>10751</td>\n",
       "      <td>Family</td>\n",
       "      <td>11052</td>\n",
       "    </tr>\n",
       "  </tbody>\n",
       "</table>\n",
       "</div>"
      ],
      "text/plain": [
       "          id             name  id_movie\n",
       "19341     12        Adventure     11052\n",
       "19342     14          Fantasy     11052\n",
       "19343     16        Animation     11052\n",
       "19344     28           Action     11052\n",
       "19345     35           Comedy     11052\n",
       "19346     53         Thriller     11052\n",
       "19347    878  Science Fiction     11052\n",
       "19348  10751           Family     11052"
      ]
     },
     "execution_count": 21,
     "metadata": {},
     "output_type": "execute_result"
    }
   ],
   "source": [
    "#Para ver a qué géneros está saciada una película se debe acudir id de la misma.\n",
    "\n",
    "df_genres[df_genres['id_movie'] == 11052]"
   ]
  },
  {
   "cell_type": "code",
   "execution_count": 22,
   "id": "fdc970e8",
   "metadata": {},
   "outputs": [],
   "source": [
<<<<<<< HEAD
    "#Nuevamente se aplica la función para cambiar el tipo de dato en la columna 'production_companies'\n",
=======
    "#Nuevamente se aplica la función para cambiar el tipo de dato.\n",
>>>>>>> acd676ef03377938625aba8cee5328d5131ef80a
    "\n",
    "df_final['production_companies'] = df_final['production_companies'].apply(funcion)"
   ]
  },
  {
   "cell_type": "code",
   "execution_count": 23,
   "id": "0fcb8301",
   "metadata": {},
   "outputs": [
    {
     "data": {
      "text/plain": [
       "{'id', 'name'}"
      ]
     },
     "execution_count": 23,
     "metadata": {},
     "output_type": "execute_result"
    }
   ],
   "source": [
    "# Obtener todas las claves únicas de los diccionarios \n",
    "\n",
    "claves = set()\n",
    "\n",
    "for lista in df_final['production_companies'].dropna():\n",
    "    \n",
    "    for diccionario in lista:\n",
    "        claves.update(diccionario.keys())\n",
    "claves"
   ]
  },
  {
   "cell_type": "code",
   "execution_count": 24,
   "id": "9a7f85a6",
   "metadata": {},
   "outputs": [],
   "source": [
<<<<<<< HEAD
    "# Creamos una lista vacía para almacenar los diccionarios\n",
=======
    "# Crear una lista vacía para almacenar los diccionarios\n",
>>>>>>> acd676ef03377938625aba8cee5328d5131ef80a
    "lista_diccionarios = []\n",
    "\n",
    "for id_original, lista in enumerate(df_final['production_companies']):\n",
    "    \n",
    "    if isinstance(lista, list):\n",
    "        \n",
    "        for diccionario in lista:\n",
    "            \n",
    "            indice = codigo_id_original[id_original]  # Obtener el índice numérico correspondiente al código de íd original\n",
    "            \n",
    "            diccionario['id_movie'] = indice\n",
    "            \n",
    "            lista_diccionarios.append(diccionario)"
   ]
  },
  {
   "cell_type": "code",
   "execution_count": 25,
   "id": "715b0f36",
   "metadata": {},
   "outputs": [],
   "source": [
    "# Creamos el DataFrame utilizando la lista de diccionarios\n",
    "\n",
    "df_production_companies = pd.DataFrame(lista_diccionarios)"
   ]
  },
  {
   "cell_type": "code",
   "execution_count": 26,
   "id": "79244044",
   "metadata": {
    "scrolled": true
   },
   "outputs": [
    {
     "data": {
      "text/html": [
       "<div>\n",
       "<style scoped>\n",
       "    .dataframe tbody tr th:only-of-type {\n",
       "        vertical-align: middle;\n",
       "    }\n",
       "\n",
       "    .dataframe tbody tr th {\n",
       "        vertical-align: top;\n",
       "    }\n",
       "\n",
       "    .dataframe thead th {\n",
       "        text-align: right;\n",
       "    }\n",
       "</style>\n",
       "<table border=\"1\" class=\"dataframe\">\n",
       "  <thead>\n",
       "    <tr style=\"text-align: right;\">\n",
       "      <th></th>\n",
       "      <th>name</th>\n",
       "      <th>id</th>\n",
       "      <th>id_movie</th>\n",
       "    </tr>\n",
       "  </thead>\n",
       "  <tbody>\n",
       "    <tr>\n",
       "      <th>15308</th>\n",
       "      <td>Toho Company</td>\n",
       "      <td>882</td>\n",
       "      <td>11052</td>\n",
       "    </tr>\n",
       "    <tr>\n",
       "      <th>15309</th>\n",
       "      <td>Shueisha</td>\n",
       "      <td>2918</td>\n",
       "      <td>11052</td>\n",
       "    </tr>\n",
       "    <tr>\n",
       "      <th>15310</th>\n",
       "      <td>TV Tokyo</td>\n",
       "      <td>3034</td>\n",
       "      <td>11052</td>\n",
       "    </tr>\n",
       "    <tr>\n",
       "      <th>15311</th>\n",
       "      <td>4 Kids Entertainment</td>\n",
       "      <td>3035</td>\n",
       "      <td>11052</td>\n",
       "    </tr>\n",
       "    <tr>\n",
       "      <th>15312</th>\n",
       "      <td>Konami Digital Entertainment</td>\n",
       "      <td>22797</td>\n",
       "      <td>11052</td>\n",
       "    </tr>\n",
       "    <tr>\n",
       "      <th>15313</th>\n",
       "      <td>Studio Gallop</td>\n",
       "      <td>50879</td>\n",
       "      <td>11052</td>\n",
       "    </tr>\n",
       "    <tr>\n",
       "      <th>15314</th>\n",
       "      <td>Konami</td>\n",
       "      <td>55914</td>\n",
       "      <td>11052</td>\n",
       "    </tr>\n",
       "    <tr>\n",
       "      <th>15315</th>\n",
       "      <td>Kids' WB</td>\n",
       "      <td>89163</td>\n",
       "      <td>11052</td>\n",
       "    </tr>\n",
       "    <tr>\n",
       "      <th>15316</th>\n",
       "      <td>Nihon Ad Systems (NAS)</td>\n",
       "      <td>89166</td>\n",
       "      <td>11052</td>\n",
       "    </tr>\n",
       "  </tbody>\n",
       "</table>\n",
       "</div>"
      ],
      "text/plain": [
       "                               name     id  id_movie\n",
       "15308                  Toho Company    882     11052\n",
       "15309                      Shueisha   2918     11052\n",
       "15310                      TV Tokyo   3034     11052\n",
       "15311          4 Kids Entertainment   3035     11052\n",
       "15312  Konami Digital Entertainment  22797     11052\n",
       "15313                 Studio Gallop  50879     11052\n",
       "15314                        Konami  55914     11052\n",
       "15315                      Kids' WB  89163     11052\n",
       "15316        Nihon Ad Systems (NAS)  89166     11052"
      ]
     },
     "execution_count": 26,
     "metadata": {},
     "output_type": "execute_result"
    }
   ],
   "source": [
    "#Para ver las compañias productoras asociadas a la película se debe acudir al id de la misma.\n",
    "\n",
    "df_production_companies[df_production_companies['id_movie'] == 11052]"
   ]
  },
  {
   "cell_type": "code",
   "execution_count": 27,
   "id": "81c8c39b",
   "metadata": {},
   "outputs": [],
   "source": [
    "#Se vuelven a repetir los pasos anteriores para la columna production_countries.\n",
    "\n",
    "df_final['production_countries'] = df_final['production_countries'].apply(funcion)"
   ]
  },
  {
   "cell_type": "code",
   "execution_count": 28,
   "id": "5728e91b",
<<<<<<< HEAD
   "metadata": {
    "scrolled": true
   },
=======
   "metadata": {},
>>>>>>> acd676ef03377938625aba8cee5328d5131ef80a
   "outputs": [
    {
     "data": {
      "text/plain": [
       "{'iso_3166_1', 'name'}"
      ]
     },
     "execution_count": 28,
     "metadata": {},
     "output_type": "execute_result"
    }
   ],
   "source": [
    "# Obtener todas las claves únicas de los diccionarios \n",
    "\n",
    "claves = set()\n",
    "\n",
    "for lista in df_final['production_countries'].dropna():\n",
    "    \n",
    "    for diccionario in lista:\n",
    "        claves.update(diccionario.keys())\n",
    "claves"
   ]
  },
  {
   "cell_type": "code",
   "execution_count": 29,
   "id": "b2104de0",
   "metadata": {},
   "outputs": [],
   "source": [
    "# Crear una lista vacía para almacenar los diccionarios\n",
    "lista_diccionarios = []\n",
    "\n",
    "for id_original, lista in enumerate(df_final['production_countries']):\n",
    "    \n",
    "    if isinstance(lista, list):\n",
    "        \n",
    "        for diccionario in lista:\n",
    "            \n",
    "            indice = codigo_id_original[id_original]  # Obtener el índice numérico correspondiente al código de íd original\n",
    "            \n",
    "            diccionario['id_movie'] = indice\n",
    "            \n",
    "            lista_diccionarios.append(diccionario)"
   ]
  },
  {
   "cell_type": "code",
   "execution_count": 30,
   "id": "03742be0",
   "metadata": {},
   "outputs": [],
   "source": [
    "# Creamos el DataFrame utilizando la lista de diccionarios\n",
    "df_production_countries = pd.DataFrame(lista_diccionarios)"
   ]
  },
  {
   "cell_type": "code",
   "execution_count": 31,
   "id": "5a3ed9c0",
   "metadata": {
<<<<<<< HEAD
    "scrolled": false
=======
    "scrolled": true
>>>>>>> acd676ef03377938625aba8cee5328d5131ef80a
   },
   "outputs": [
    {
     "data": {
      "text/html": [
       "<div>\n",
       "<style scoped>\n",
       "    .dataframe tbody tr th:only-of-type {\n",
       "        vertical-align: middle;\n",
       "    }\n",
       "\n",
       "    .dataframe tbody tr th {\n",
       "        vertical-align: top;\n",
       "    }\n",
       "\n",
       "    .dataframe thead th {\n",
       "        text-align: right;\n",
       "    }\n",
       "</style>\n",
       "<table border=\"1\" class=\"dataframe\">\n",
       "  <thead>\n",
       "    <tr style=\"text-align: right;\">\n",
       "      <th></th>\n",
       "      <th>iso_3166_1</th>\n",
       "      <th>name</th>\n",
       "      <th>id_movie</th>\n",
       "    </tr>\n",
       "  </thead>\n",
       "  <tbody>\n",
       "    <tr>\n",
       "      <th>17</th>\n",
       "      <td>FR</td>\n",
       "      <td>France</td>\n",
       "      <td>1408</td>\n",
       "    </tr>\n",
       "    <tr>\n",
       "      <th>18</th>\n",
       "      <td>DE</td>\n",
       "      <td>Germany</td>\n",
       "      <td>1408</td>\n",
       "    </tr>\n",
       "    <tr>\n",
       "      <th>19</th>\n",
       "      <td>IT</td>\n",
       "      <td>Italy</td>\n",
       "      <td>1408</td>\n",
       "    </tr>\n",
       "    <tr>\n",
       "      <th>20</th>\n",
       "      <td>US</td>\n",
       "      <td>United States of America</td>\n",
       "      <td>1408</td>\n",
       "    </tr>\n",
       "  </tbody>\n",
       "</table>\n",
       "</div>"
      ],
      "text/plain": [
       "   iso_3166_1                      name  id_movie\n",
       "17         FR                    France      1408\n",
       "18         DE                   Germany      1408\n",
       "19         IT                     Italy      1408\n",
       "20         US  United States of America      1408"
      ]
     },
     "execution_count": 31,
     "metadata": {},
     "output_type": "execute_result"
    }
   ],
   "source": [
    "#Para ver los países donde se produjo la película se debe acudir al id de la misma.\n",
    "\n",
    "df_production_countries[df_production_countries['id_movie'] == 1408]"
   ]
  },
  {
   "cell_type": "code",
   "execution_count": 32,
   "id": "a6cc3f7c",
   "metadata": {},
   "outputs": [],
   "source": [
    "#Por último, desanidamos la columna spoken_languages.\n",
    "\n",
    "df_final['spoken_languages'] = df_final['spoken_languages'].apply(funcion)"
   ]
  },
  {
   "cell_type": "code",
   "execution_count": 33,
   "id": "014d44c4",
   "metadata": {},
   "outputs": [
    {
     "data": {
      "text/plain": [
       "{'iso_639_1', 'name'}"
      ]
     },
     "execution_count": 33,
     "metadata": {},
     "output_type": "execute_result"
    }
   ],
   "source": [
    "# Obtener todas las claves únicas de los diccionarios \n",
    "\n",
    "claves = set()\n",
    "\n",
    "for lista in df_final['spoken_languages'].dropna():\n",
    "    \n",
    "    for diccionario in lista:\n",
    "        claves.update(diccionario.keys())\n",
    "claves"
   ]
  },
  {
   "cell_type": "code",
   "execution_count": 34,
   "id": "f5761ca0",
   "metadata": {},
   "outputs": [],
   "source": [
    "# Crear una lista vacía para almacenar los diccionarios\n",
    "lista_diccionarios = []\n",
    "\n",
    "for id_original, lista in enumerate(df_final['spoken_languages']):\n",
    "    \n",
    "    if isinstance(lista, list):\n",
    "        \n",
    "        for diccionario in lista:\n",
    "            \n",
    "            indice = codigo_id_original[id_original]  # Obtener el índice numérico correspondiente al código de íd original\n",
    "            \n",
    "            diccionario['id_movie'] = indice\n",
    "            \n",
    "            lista_diccionarios.append(diccionario)"
   ]
  },
  {
   "cell_type": "code",
   "execution_count": 35,
   "id": "257e6572",
   "metadata": {},
   "outputs": [],
   "source": [
    "# Creamos el DataFrame utilizando la lista de diccionarios\n",
    "df_spoken_languages = pd.DataFrame(lista_diccionarios)"
   ]
  },
  {
   "cell_type": "code",
   "execution_count": 36,
   "id": "19206209",
   "metadata": {
<<<<<<< HEAD
    "scrolled": false
=======
    "scrolled": true
>>>>>>> acd676ef03377938625aba8cee5328d5131ef80a
   },
   "outputs": [
    {
     "data": {
      "text/html": [
       "<div>\n",
       "<style scoped>\n",
       "    .dataframe tbody tr th:only-of-type {\n",
       "        vertical-align: middle;\n",
       "    }\n",
       "\n",
       "    .dataframe tbody tr th {\n",
       "        vertical-align: top;\n",
       "    }\n",
       "\n",
       "    .dataframe thead th {\n",
       "        text-align: right;\n",
       "    }\n",
       "</style>\n",
       "<table border=\"1\" class=\"dataframe\">\n",
       "  <thead>\n",
       "    <tr style=\"text-align: right;\">\n",
       "      <th></th>\n",
       "      <th>iso_639_1</th>\n",
       "      <th>name</th>\n",
       "      <th>id_movie</th>\n",
       "    </tr>\n",
       "  </thead>\n",
       "  <tbody>\n",
       "    <tr>\n",
       "      <th>33264</th>\n",
       "      <td>en</td>\n",
       "      <td>English</td>\n",
       "      <td>36283</td>\n",
       "    </tr>\n",
       "    <tr>\n",
       "      <th>33265</th>\n",
       "      <td>de</td>\n",
       "      <td>Deutsch</td>\n",
       "      <td>36283</td>\n",
       "    </tr>\n",
       "    <tr>\n",
       "      <th>33266</th>\n",
       "      <td>it</td>\n",
       "      <td>Italiano</td>\n",
       "      <td>36283</td>\n",
       "    </tr>\n",
       "  </tbody>\n",
       "</table>\n",
       "</div>"
      ],
      "text/plain": [
       "      iso_639_1      name  id_movie\n",
       "33264        en   English     36283\n",
       "33265        de   Deutsch     36283\n",
       "33266        it  Italiano     36283"
      ]
     },
     "execution_count": 36,
     "metadata": {},
     "output_type": "execute_result"
    }
   ],
   "source": [
<<<<<<< HEAD
    "#Para ver los idiomas que se hablan en la película se debe acudir al id de la misma.\n",
=======
    "#Para ver los idiomas que se hablan en la pelicula se debe acudir al id de la misma.\n",
>>>>>>> acd676ef03377938625aba8cee5328d5131ef80a
    "\n",
    "df_spoken_languages[df_spoken_languages['id_movie'] == 36283]"
   ]
  },
  {
   "cell_type": "code",
<<<<<<< HEAD
   "execution_count": 37,
=======
   "execution_count": 38,
>>>>>>> acd676ef03377938625aba8cee5328d5131ef80a
   "id": "70dc05e0",
   "metadata": {},
   "outputs": [],
   "source": [
    "#Reemplazamos los registros faltantes por cero en las columnas 'revenue' y 'budget' para futuros análisis.\n",
    "\n",
    "df_final['revenue'].fillna(0, inplace=True)\n",
    "\n",
    "df_final['budget'].fillna(0, inplace=True)"
   ]
  },
  {
   "cell_type": "code",
<<<<<<< HEAD
   "execution_count": 38,
=======
   "execution_count": 39,
>>>>>>> acd676ef03377938625aba8cee5328d5131ef80a
   "id": "500d96c3",
   "metadata": {
    "scrolled": true
   },
   "outputs": [],
   "source": [
<<<<<<< HEAD
    "#Cambiamos el tipo y formato de la columna 'release_date' \n",
    "#Cambiamos el tipo de dato de la columna 'budget' con la función astype().\n",
=======
    "#Cambiamos el tipo de dato de la columna budget y release_date con la función astype()\n",
>>>>>>> acd676ef03377938625aba8cee5328d5131ef80a
    "#Eliminamos los datos faltantes de la columna release_date\n",
    "\n",
    "df_final['release_date'] = pd.to_datetime(df_final['release_date'], format='%Y-%m-%d')\n",
    "\n",
    "df_final['budget'] = df_final['budget'].astype(float)\n",
    "\n",
    "df_final.dropna(subset=['release_date'], inplace=True)"
   ]
  },
  {
   "cell_type": "code",
<<<<<<< HEAD
   "execution_count": 39,
=======
   "execution_count": 40,
>>>>>>> acd676ef03377938625aba8cee5328d5131ef80a
   "id": "06ebde85",
   "metadata": {},
   "outputs": [],
   "source": [
    "#Agregamos una nueva columna llamada release_year donde se incluye el año de lanzamiento de la película.\n",
    "\n",
    "df_final['release_year'] = df_final['release_date'].dt.year"
   ]
  },
  {
   "cell_type": "code",
<<<<<<< HEAD
   "execution_count": 40,
   "id": "76c0f649",
   "metadata": {
    "scrolled": false
   },
=======
   "execution_count": 41,
   "id": "76c0f649",
   "metadata": {},
>>>>>>> acd676ef03377938625aba8cee5328d5131ef80a
   "outputs": [
    {
     "data": {
      "text/html": [
       "<div>\n",
       "<style scoped>\n",
       "    .dataframe tbody tr th:only-of-type {\n",
       "        vertical-align: middle;\n",
       "    }\n",
       "\n",
       "    .dataframe tbody tr th {\n",
       "        vertical-align: top;\n",
       "    }\n",
       "\n",
       "    .dataframe thead th {\n",
       "        text-align: right;\n",
       "    }\n",
       "</style>\n",
       "<table border=\"1\" class=\"dataframe\">\n",
       "  <thead>\n",
       "    <tr style=\"text-align: right;\">\n",
       "      <th></th>\n",
       "      <th>title</th>\n",
       "      <th>revenue</th>\n",
       "      <th>budget</th>\n",
       "      <th>return</th>\n",
       "    </tr>\n",
       "  </thead>\n",
       "  <tbody>\n",
       "    <tr>\n",
       "      <th>0</th>\n",
       "      <td>Toy Story</td>\n",
       "      <td>373554033.0</td>\n",
       "      <td>30000000.0</td>\n",
       "      <td>12.45</td>\n",
       "    </tr>\n",
       "    <tr>\n",
       "      <th>1</th>\n",
       "      <td>Jumanji</td>\n",
       "      <td>262797249.0</td>\n",
       "      <td>65000000.0</td>\n",
       "      <td>4.04</td>\n",
       "    </tr>\n",
       "    <tr>\n",
       "      <th>2</th>\n",
       "      <td>Grumpier Old Men</td>\n",
       "      <td>0.0</td>\n",
       "      <td>0.0</td>\n",
       "      <td>0.00</td>\n",
       "    </tr>\n",
       "    <tr>\n",
       "      <th>3</th>\n",
       "      <td>Waiting to Exhale</td>\n",
       "      <td>81452156.0</td>\n",
       "      <td>16000000.0</td>\n",
       "      <td>5.09</td>\n",
       "    </tr>\n",
       "    <tr>\n",
       "      <th>4</th>\n",
       "      <td>Father of the Bride Part II</td>\n",
       "      <td>76578911.0</td>\n",
       "      <td>0.0</td>\n",
       "      <td>0.00</td>\n",
       "    </tr>\n",
       "    <tr>\n",
       "      <th>5</th>\n",
       "      <td>Heat</td>\n",
       "      <td>187436818.0</td>\n",
       "      <td>60000000.0</td>\n",
       "      <td>3.12</td>\n",
       "    </tr>\n",
       "    <tr>\n",
       "      <th>6</th>\n",
       "      <td>Sabrina</td>\n",
       "      <td>0.0</td>\n",
       "      <td>58000000.0</td>\n",
       "      <td>0.00</td>\n",
       "    </tr>\n",
       "    <tr>\n",
       "      <th>7</th>\n",
       "      <td>Tom and Huck</td>\n",
       "      <td>0.0</td>\n",
       "      <td>0.0</td>\n",
       "      <td>0.00</td>\n",
       "    </tr>\n",
       "    <tr>\n",
       "      <th>8</th>\n",
       "      <td>Sudden Death</td>\n",
       "      <td>64350171.0</td>\n",
       "      <td>35000000.0</td>\n",
       "      <td>1.84</td>\n",
       "    </tr>\n",
       "    <tr>\n",
       "      <th>9</th>\n",
       "      <td>GoldenEye</td>\n",
       "      <td>352194034.0</td>\n",
       "      <td>58000000.0</td>\n",
       "      <td>6.07</td>\n",
       "    </tr>\n",
       "    <tr>\n",
       "      <th>10</th>\n",
       "      <td>The American President</td>\n",
       "      <td>107879496.0</td>\n",
       "      <td>62000000.0</td>\n",
       "      <td>1.74</td>\n",
       "    </tr>\n",
       "  </tbody>\n",
       "</table>\n",
       "</div>"
      ],
      "text/plain": [
       "                          title      revenue      budget  return\n",
       "0                     Toy Story  373554033.0  30000000.0   12.45\n",
       "1                       Jumanji  262797249.0  65000000.0    4.04\n",
       "2              Grumpier Old Men          0.0         0.0    0.00\n",
       "3             Waiting to Exhale   81452156.0  16000000.0    5.09\n",
       "4   Father of the Bride Part II   76578911.0         0.0    0.00\n",
       "5                          Heat  187436818.0  60000000.0    3.12\n",
       "6                       Sabrina          0.0  58000000.0    0.00\n",
       "7                  Tom and Huck          0.0         0.0    0.00\n",
       "8                  Sudden Death   64350171.0  35000000.0    1.84\n",
       "9                     GoldenEye  352194034.0  58000000.0    6.07\n",
       "10       The American President  107879496.0  62000000.0    1.74"
      ]
     },
<<<<<<< HEAD
     "execution_count": 40,
=======
     "execution_count": 41,
>>>>>>> acd676ef03377938625aba8cee5328d5131ef80a
     "metadata": {},
     "output_type": "execute_result"
    }
   ],
   "source": [
    "#Generamos una nueva columna llamada 'retorno' calculada a partir de la división las ganancias entre el presupuesto.\n",
    "\n",
    "df_final['return'] = df_final['revenue']/df_final['budget']\n",
    "\n",
    "df_final['return'].fillna(0, inplace=True)\n",
    "\n",
    "df_final['return'] = df_final['return'].replace([np.inf, -np.inf], 0)\n",
    "\n",
    "df_final['return'] = df_final['return'].round(2)\n",
    "\n",
    "df_final.loc[0:10,['title','revenue','budget','return']]"
   ]
  },
  {
   "cell_type": "code",
<<<<<<< HEAD
   "execution_count": 41,
=======
   "execution_count": 42,
>>>>>>> acd676ef03377938625aba8cee5328d5131ef80a
   "id": "652c42c5",
   "metadata": {},
   "outputs": [],
   "source": [
<<<<<<< HEAD
    "#Normalizamos columna 'title' y 'original_language' para posteriores consultas.\n",
    "\n",
    "df_final['title'] = df_final['title'].apply(lambda x: x.title())\n",
    "\n",
    "df_final['original_language'] = df_final['original_language'].fillna('')\n",
    "\n",
    "df_final['original_language'] = df_final['original_language'].apply(lambda x: x.lower())"
   ]
  },
  {
   "cell_type": "code",
   "execution_count": 42,
   "id": "d01694e4",
   "metadata": {},
   "outputs": [],
   "source": [
    "#También normalizamos algunas columnas de dataframes anteriormente creados para posteriores consultas\n",
    "\n",
    "df_spoken_languages['name'] = df_spoken_languages['name'].apply(lambda x: x.title())\n",
    "\n",
    "belongs_collection['name'] = belongs_collection['name'].apply(lambda x: x.title())\n",
    "\n",
    "df_production_countries['name'] = df_production_countries['name'].apply(lambda x: x.title())\n",
    "\n",
    "df_production_companies['name'] = df_production_companies['name'].apply(lambda x: x.title())"
=======
    "#Normalizamos columna 'title' con  la función title() para posteriores consultas.\n",
    "\n",
    "df_final['title'] = df_final['title'].apply(lambda x: x.title())"
>>>>>>> acd676ef03377938625aba8cee5328d5131ef80a
   ]
  },
  {
   "cell_type": "code",
   "execution_count": 43,
   "id": "394e5fd4",
   "metadata": {},
   "outputs": [],
   "source": [
<<<<<<< HEAD
    "#Por último, eliminamos la columnas que no usaremos aligerando el tamaño total del dataset.\n",
=======
    "#Por último eliminamos la columnas que no usaremos aligerando el tamaño total del dataset.\n",
>>>>>>> acd676ef03377938625aba8cee5328d5131ef80a
    "\n",
    "df_final = df_final.drop(columns=['belongs_to_collection','genres','production_companies','production_countries','spoken_languages','video','imdb_id','adult','original_title','poster_path','homepage'])\n"
   ]
  },
  {
   "cell_type": "code",
   "execution_count": 44,
<<<<<<< HEAD
   "id": "36f2e0f4",
   "metadata": {
    "scrolled": false
=======
   "id": "1c989eec",
   "metadata": {
    "scrolled": true
>>>>>>> acd676ef03377938625aba8cee5328d5131ef80a
   },
   "outputs": [
    {
     "data": {
      "text/html": [
       "<div>\n",
       "<style scoped>\n",
       "    .dataframe tbody tr th:only-of-type {\n",
       "        vertical-align: middle;\n",
       "    }\n",
       "\n",
       "    .dataframe tbody tr th {\n",
       "        vertical-align: top;\n",
       "    }\n",
       "\n",
       "    .dataframe thead th {\n",
       "        text-align: right;\n",
       "    }\n",
       "</style>\n",
       "<table border=\"1\" class=\"dataframe\">\n",
       "  <thead>\n",
       "    <tr style=\"text-align: right;\">\n",
       "      <th></th>\n",
       "      <th>budget</th>\n",
       "      <th>id</th>\n",
       "      <th>original_language</th>\n",
       "      <th>overview</th>\n",
       "      <th>popularity</th>\n",
       "      <th>release_date</th>\n",
       "      <th>revenue</th>\n",
       "      <th>runtime</th>\n",
       "      <th>status</th>\n",
       "      <th>tagline</th>\n",
       "      <th>title</th>\n",
       "      <th>vote_average</th>\n",
       "      <th>vote_count</th>\n",
       "      <th>release_year</th>\n",
       "      <th>return</th>\n",
       "    </tr>\n",
       "  </thead>\n",
       "  <tbody>\n",
       "    <tr>\n",
       "      <th>0</th>\n",
       "      <td>30000000.0</td>\n",
       "      <td>862</td>\n",
       "      <td>en</td>\n",
       "      <td>Led by Woody, Andy's toys live happily in his ...</td>\n",
       "      <td>21.946943</td>\n",
       "      <td>1995-10-30</td>\n",
       "      <td>373554033.0</td>\n",
       "      <td>81.0</td>\n",
       "      <td>Released</td>\n",
       "      <td>NaN</td>\n",
       "      <td>Toy Story</td>\n",
       "      <td>7.7</td>\n",
       "      <td>5415.0</td>\n",
       "      <td>1995</td>\n",
       "      <td>12.45</td>\n",
       "    </tr>\n",
       "    <tr>\n",
       "      <th>1</th>\n",
       "      <td>65000000.0</td>\n",
       "      <td>8844</td>\n",
       "      <td>en</td>\n",
       "      <td>When siblings Judy and Peter discover an encha...</td>\n",
       "      <td>17.015539</td>\n",
       "      <td>1995-12-15</td>\n",
       "      <td>262797249.0</td>\n",
       "      <td>104.0</td>\n",
       "      <td>Released</td>\n",
       "      <td>Roll the dice and unleash the excitement!</td>\n",
       "      <td>Jumanji</td>\n",
       "      <td>6.9</td>\n",
       "      <td>2413.0</td>\n",
       "      <td>1995</td>\n",
       "      <td>4.04</td>\n",
       "    </tr>\n",
       "    <tr>\n",
       "      <th>2</th>\n",
       "      <td>0.0</td>\n",
       "      <td>15602</td>\n",
       "      <td>en</td>\n",
       "      <td>A family wedding reignites the ancient feud be...</td>\n",
       "      <td>11.7129</td>\n",
       "      <td>1995-12-22</td>\n",
       "      <td>0.0</td>\n",
       "      <td>101.0</td>\n",
       "      <td>Released</td>\n",
       "      <td>Still Yelling. Still Fighting. Still Ready for...</td>\n",
       "      <td>Grumpier Old Men</td>\n",
       "      <td>6.5</td>\n",
       "      <td>92.0</td>\n",
       "      <td>1995</td>\n",
       "      <td>0.00</td>\n",
       "    </tr>\n",
       "  </tbody>\n",
       "</table>\n",
       "</div>"
      ],
      "text/plain": [
       "       budget     id original_language  \\\n",
       "0  30000000.0    862                en   \n",
       "1  65000000.0   8844                en   \n",
       "2         0.0  15602                en   \n",
       "\n",
       "                                            overview popularity release_date  \\\n",
       "0  Led by Woody, Andy's toys live happily in his ...  21.946943   1995-10-30   \n",
       "1  When siblings Judy and Peter discover an encha...  17.015539   1995-12-15   \n",
       "2  A family wedding reignites the ancient feud be...    11.7129   1995-12-22   \n",
       "\n",
       "       revenue  runtime    status  \\\n",
       "0  373554033.0     81.0  Released   \n",
       "1  262797249.0    104.0  Released   \n",
       "2          0.0    101.0  Released   \n",
       "\n",
       "                                             tagline             title  \\\n",
       "0                                                NaN         Toy Story   \n",
       "1          Roll the dice and unleash the excitement!           Jumanji   \n",
       "2  Still Yelling. Still Fighting. Still Ready for...  Grumpier Old Men   \n",
       "\n",
       "   vote_average  vote_count  release_year  return  \n",
       "0           7.7      5415.0          1995   12.45  \n",
       "1           6.9      2413.0          1995    4.04  \n",
       "2           6.5        92.0          1995    0.00  "
      ]
     },
     "execution_count": 44,
     "metadata": {},
     "output_type": "execute_result"
    }
   ],
   "source": [
    "df_final.head(3)"
   ]
  },
  {
   "cell_type": "code",
   "execution_count": null,
<<<<<<< HEAD
   "id": "6ee250fc",
=======
   "id": "8509421c",
>>>>>>> acd676ef03377938625aba8cee5328d5131ef80a
   "metadata": {},
   "outputs": [],
   "source": []
  },
  {
   "cell_type": "code",
<<<<<<< HEAD
   "execution_count": 45,
=======
   "execution_count": 46,
>>>>>>> acd676ef03377938625aba8cee5328d5131ef80a
   "id": "af0b0a80",
   "metadata": {},
   "outputs": [],
   "source": [
    "#Importamos el segundo dataset para realizar los cambios correspondientes\n",
    "\n",
    "df_credits = pd.read_csv('datasets/credits.csv')"
   ]
  },
  {
   "cell_type": "code",
<<<<<<< HEAD
   "execution_count": 46,
=======
   "execution_count": 47,
>>>>>>> acd676ef03377938625aba8cee5328d5131ef80a
   "id": "02bd8afd",
   "metadata": {},
   "outputs": [],
   "source": [
    "df_credits.drop_duplicates(subset='id', keep='first', inplace=True)"
   ]
  },
  {
   "cell_type": "code",
<<<<<<< HEAD
   "execution_count": 47,
=======
   "execution_count": 48,
>>>>>>> acd676ef03377938625aba8cee5328d5131ef80a
   "id": "c2da14a0",
   "metadata": {
    "scrolled": true
   },
   "outputs": [],
   "source": [
    "#Nuevamente aplicamos la función sobre la columna 'cast'\n",
    "\n",
    "df_credits['cast'] = df_credits['cast'].apply(funcion)"
   ]
  },
  {
   "cell_type": "code",
<<<<<<< HEAD
   "execution_count": 48,
=======
   "execution_count": 49,
>>>>>>> acd676ef03377938625aba8cee5328d5131ef80a
   "id": "f9c244b8",
   "metadata": {},
   "outputs": [
    {
     "data": {
      "text/plain": [
       "{'cast_id',\n",
       " 'character',\n",
       " 'credit_id',\n",
       " 'gender',\n",
       " 'id',\n",
       " 'name',\n",
       " 'order',\n",
       " 'profile_path'}"
      ]
     },
<<<<<<< HEAD
     "execution_count": 48,
=======
     "execution_count": 49,
>>>>>>> acd676ef03377938625aba8cee5328d5131ef80a
     "metadata": {},
     "output_type": "execute_result"
    }
   ],
   "source": [
    "# Iteramos para obtener todas las claves únicas de los diccionarios \n",
    "\n",
    "claves = set()\n",
    "\n",
    "for lista in df_credits['cast'].dropna():\n",
    "    \n",
    "    for diccionario in lista:\n",
    "        claves.update(diccionario.keys())\n",
    "claves"
   ]
  },
  {
   "cell_type": "code",
<<<<<<< HEAD
   "execution_count": 49,
=======
   "execution_count": 50,
>>>>>>> acd676ef03377938625aba8cee5328d5131ef80a
   "id": "74e53f5e",
   "metadata": {},
   "outputs": [],
   "source": [
    "codigo_id_original = {}  # Diccionario para mapear los códigos de id originales a índices numéricos\n",
    "\n",
    "for i, lista in enumerate(df_credits['cast']):\n",
    "    \n",
    "    if isinstance(lista, list):\n",
    "        \n",
    "        codigo_id_original[i] = df_credits['id'].values[i]  # Mapear el código de id original al índice numérico"
   ]
  },
  {
   "cell_type": "code",
<<<<<<< HEAD
   "execution_count": 50,
=======
   "execution_count": 51,
>>>>>>> acd676ef03377938625aba8cee5328d5131ef80a
   "id": "6e485bf8",
   "metadata": {},
   "outputs": [],
   "source": [
    "# Crear una lista vacía para almacenar los diccionarios\n",
    "lista_dicc = []\n",
    "\n",
    "for id_original, lista in enumerate(df_credits['cast']):\n",
    "    \n",
    "    if isinstance(lista, list):\n",
    "        \n",
    "        for diccionario in lista:\n",
    "            \n",
    "            indice = codigo_id_original[id_original]  # Obtener el índice numérico correspondiente al código de íd original\n",
    "            \n",
    "            diccionario['id_movie'] = indice\n",
    "            \n",
    "            lista_dicc.append(diccionario)"
   ]
  },
  {
   "cell_type": "code",
<<<<<<< HEAD
   "execution_count": 51,
=======
   "execution_count": null,
   "id": "adebac0a",
   "metadata": {},
   "outputs": [],
   "source": []
  },
  {
   "cell_type": "code",
   "execution_count": 53,
>>>>>>> acd676ef03377938625aba8cee5328d5131ef80a
   "id": "62a519ff",
   "metadata": {},
   "outputs": [],
   "source": [
    "# Creamos el DataFrame utilizando la lista de diccionarios\n",
    "\n",
    "df_cast = pd.DataFrame(lista_dicc)"
   ]
  },
  {
   "cell_type": "code",
<<<<<<< HEAD
   "execution_count": 52,
=======
   "execution_count": 54,
>>>>>>> acd676ef03377938625aba8cee5328d5131ef80a
   "id": "c14a2b65",
   "metadata": {},
   "outputs": [],
   "source": [
    "#Normalizamos columna 'name' con  la función title() para posteriores consultas.\n",
    "\n",
    "df_cast['name'] = df_cast['name'].apply(lambda x: x.title())"
   ]
  },
  {
   "cell_type": "code",
<<<<<<< HEAD
   "execution_count": 53,
=======
   "execution_count": 55,
>>>>>>> acd676ef03377938625aba8cee5328d5131ef80a
   "id": "fd743397",
   "metadata": {
    "scrolled": true
   },
   "outputs": [],
   "source": [
    "#Nuevamente aplicamos la función sobre la columna 'crew' del dataset.\n",
    "\n",
    "df_credits['crew'] = df_credits['crew'].apply(funcion)"
   ]
  },
  {
   "cell_type": "code",
<<<<<<< HEAD
   "execution_count": 54,
=======
   "execution_count": 56,
>>>>>>> acd676ef03377938625aba8cee5328d5131ef80a
   "id": "cfd0cbb0",
   "metadata": {},
   "outputs": [
    {
     "data": {
      "text/plain": [
       "{'credit_id', 'department', 'gender', 'id', 'job', 'name', 'profile_path'}"
      ]
     },
<<<<<<< HEAD
     "execution_count": 54,
=======
     "execution_count": 56,
>>>>>>> acd676ef03377938625aba8cee5328d5131ef80a
     "metadata": {},
     "output_type": "execute_result"
    }
   ],
   "source": [
    "# Obtener todas las claves únicas de los diccionarios \n",
    "\n",
    "claves = set()\n",
    "\n",
    "for lista in df_credits['crew'].dropna():\n",
    "    \n",
    "    for diccionario in lista:\n",
    "        claves.update(diccionario.keys())\n",
    "claves"
   ]
  },
  {
   "cell_type": "code",
<<<<<<< HEAD
   "execution_count": 55,
=======
   "execution_count": 57,
>>>>>>> acd676ef03377938625aba8cee5328d5131ef80a
   "id": "24f1095a",
   "metadata": {
    "scrolled": true
   },
   "outputs": [],
   "source": [
    "# Crear una lista vacía para almacenar los diccionarios\n",
    "lista_dicc = []\n",
    "\n",
    "for id_original, lista in enumerate(df_credits['crew']):\n",
    "    \n",
    "    if isinstance(lista, list):\n",
    "        \n",
    "        for diccionario in lista:\n",
    "            \n",
    "            indice = codigo_id_original[id_original]  # Obtener el índice numérico correspondiente al código de íd original\n",
    "            \n",
    "            diccionario['id_movie'] = indice\n",
    "            \n",
    "            lista_dicc.append(diccionario)"
   ]
  },
  {
   "cell_type": "code",
<<<<<<< HEAD
   "execution_count": 56,
=======
   "execution_count": 58,
>>>>>>> acd676ef03377938625aba8cee5328d5131ef80a
   "id": "81d42d3d",
   "metadata": {},
   "outputs": [],
   "source": [
    "# Creamos el DataFrame utilizando la lista de diccionarios\n",
    "\n",
    "df_crew = pd.DataFrame(lista_dicc)"
   ]
  },
  {
   "cell_type": "code",
<<<<<<< HEAD
   "execution_count": 57,
=======
   "execution_count": 59,
>>>>>>> acd676ef03377938625aba8cee5328d5131ef80a
   "id": "4688e1b0",
   "metadata": {},
   "outputs": [],
   "source": [
    "#Normalizamos columna 'job' y 'name' con  la función title() para posteriores consultas.\n",
    "\n",
    "df_crew['job'] = df_crew['job'].apply(lambda x: x.title())\n",
    "\n",
    "df_crew['name'] = df_crew['name'].apply(lambda x: x.title())"
   ]
  },
  {
   "cell_type": "code",
<<<<<<< HEAD
   "execution_count": 58,
   "id": "c475ec5a",
   "metadata": {},
   "outputs": [],
   "source": [
    "#Del dataset data_crew solo nos quedaremos con las columnas que se usarán en las consultas.\n",
=======
   "execution_count": 72,
   "id": "39920e49",
   "metadata": {
    "scrolled": true
   },
   "outputs": [],
   "source": [
    "#De los datasets obtenidos solo nos quedaremos con las columnas que se usarán en las consultas.\n",
    "\n",
    "data_cast = df_cast.drop(columns=['cast_id','character','credit_id','gender','order','profile_path'])\n",
>>>>>>> acd676ef03377938625aba8cee5328d5131ef80a
    "\n",
    "data_crew = df_crew.drop(columns=['credit_id','gender','gender','profile_path'])"
   ]
  },
  {
   "cell_type": "code",
<<<<<<< HEAD
   "execution_count": 59,
   "id": "0b8355e9",
=======
   "execution_count": 75,
   "id": "71fdd32e",
>>>>>>> acd676ef03377938625aba8cee5328d5131ef80a
   "metadata": {},
   "outputs": [],
   "source": [
    "#Finalmente convertimos los dataframes resultantes en archivos.csv \n",
    "\n",
    "df_final.to_csv('datasets/final_movies_dataset.csv', index=False)\n",
    "\n",
<<<<<<< HEAD
    "belongs_collection.to_csv('datasets/belongs_collection.csv', index=False)\n",
    "\n",
    "df_spoken_languages.to_csv('datasets/spoken_languages.csv', index=False)\n",
    "\n",
    "df_production_countries.to_csv('datasets/production_countries.csv', index=False)\n",
    "\n",
    "df_production_companies.to_csv('datasets/production_companies.csv', index=False)\n",
    "\n",
    "data_crew.to_csv('datasets/data_crew.csv', index=False)\n",
    "\n",
    "df_genres.to_csv('datasets/data_genres.csv', index=False)"
=======
    "data_cast.to_csv('datasets/data_cast.csv', index=False)\n",
    "\n",
    "data_crew.to_csv('datasets/data_crew.csv', index=False)"
>>>>>>> acd676ef03377938625aba8cee5328d5131ef80a
   ]
  }
 ],
 "metadata": {
  "kernelspec": {
   "display_name": "Python 3 (ipykernel)",
   "language": "python",
   "name": "python3"
  },
  "language_info": {
   "codemirror_mode": {
    "name": "ipython",
    "version": 3
   },
   "file_extension": ".py",
   "mimetype": "text/x-python",
   "name": "python",
   "nbconvert_exporter": "python",
   "pygments_lexer": "ipython3",
   "version": "3.9.13"
  },
  "toc": {
   "base_numbering": 1,
   "nav_menu": {},
   "number_sections": true,
   "sideBar": true,
   "skip_h1_title": false,
   "title_cell": "Table of Contents",
   "title_sidebar": "Contents",
   "toc_cell": false,
   "toc_position": {},
   "toc_section_display": true,
   "toc_window_display": false
  }
 },
 "nbformat": 4,
 "nbformat_minor": 5
}
